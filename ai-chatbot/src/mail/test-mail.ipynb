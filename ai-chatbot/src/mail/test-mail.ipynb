{
 "cells": [
  {
   "cell_type": "code",
   "execution_count": 2,
   "id": "69267151",
   "metadata": {},
   "outputs": [
    {
     "name": "stdout",
     "output_type": "stream",
     "text": [
      "Testing Gmail SMTP...\n",
      "User: adityakuma0308@gmail.com\n",
      "Password: *******************\n",
      "🔌 Connecting to Gmail SMTP...\n",
      "Starting TLS...\n",
      "Logging in...\n",
      "Gmail connection successful!\n"
     ]
    }
   ],
   "source": [
    "import smtplib\n",
    "import os\n",
    "from dotenv import load_dotenv\n",
    "\n",
    "load_dotenv()\n",
    "\n",
    "def test_gmail_connection():\n",
    "    smtp_user = os.getenv(\"EMAIL_USER\")\n",
    "    smtp_password = os.getenv(\"EMAIL_PASSWORD\")\n",
    "    \n",
    "    print(f\"Testing Gmail SMTP...\")\n",
    "    print(f\"User: {smtp_user}\")\n",
    "    print(f\"Password: {'*' * len(smtp_password) if smtp_password else 'NOT SET'}\")\n",
    "    \n",
    "    if not smtp_user or not smtp_password:\n",
    "        print(\"EMAIL_USER or EMAIL_PASSWORD missing!\")\n",
    "        return False\n",
    "    \n",
    "    try:\n",
    "        print(\"🔌 Connecting to Gmail SMTP...\")\n",
    "        with smtplib.SMTP(\"smtp.gmail.com\", 587) as server:\n",
    "            print(\"Starting TLS...\")\n",
    "            server.starttls()\n",
    "            print(\"Logging in...\")\n",
    "            server.login(smtp_user, smtp_password)\n",
    "            print(\"Gmail connection successful!\")\n",
    "            return True\n",
    "    except smtplib.SMTPAuthenticationError as e:\n",
    "        print(f\"Authentication failed: {e}\")\n",
    "        print(\" Solution: Generate Gmail App Password\")\n",
    "        return False\n",
    "    except Exception as e:\n",
    "        print(f\" Connection failed: {e}\")\n",
    "        return False\n",
    "\n",
    "if __name__ == \"__main__\":\n",
    "    test_gmail_connection()"
   ]
  },
  {
   "cell_type": "code",
   "execution_count": null,
   "id": "76d1b0f3",
   "metadata": {},
   "outputs": [],
   "source": []
  }
 ],
 "metadata": {
  "kernelspec": {
   "display_name": "venv",
   "language": "python",
   "name": "python3"
  },
  "language_info": {
   "codemirror_mode": {
    "name": "ipython",
    "version": 3
   },
   "file_extension": ".py",
   "mimetype": "text/x-python",
   "name": "python",
   "nbconvert_exporter": "python",
   "pygments_lexer": "ipython3",
   "version": "3.11.5"
  }
 },
 "nbformat": 4,
 "nbformat_minor": 5
}
